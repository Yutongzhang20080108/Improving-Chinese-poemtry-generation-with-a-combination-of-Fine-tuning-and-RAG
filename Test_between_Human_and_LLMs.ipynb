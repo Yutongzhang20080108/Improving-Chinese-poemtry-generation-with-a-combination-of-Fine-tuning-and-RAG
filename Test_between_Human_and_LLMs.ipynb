{
  "nbformat": 4,
  "nbformat_minor": 0,
  "metadata": {
    "colab": {
      "provenance": [],
      "authorship_tag": "ABX9TyMeh4CMW+TwWcNmI0LkgX3u",
      "include_colab_link": true
    },
    "kernelspec": {
      "name": "python3",
      "display_name": "Python 3"
    },
    "language_info": {
      "name": "python"
    }
  },
  "cells": [
    {
      "cell_type": "markdown",
      "metadata": {
        "id": "view-in-github",
        "colab_type": "text"
      },
      "source": [
        "<a href=\"https://colab.research.google.com/github/Yutongzhang20080108/Using-a-Combination-of-DPO-and-RAG-to-Improve-the-Chinese-Poetry-Generation/blob/main/Test_between_Human_and_LLMs.ipynb\" target=\"_parent\"><img src=\"https://colab.research.google.com/assets/colab-badge.svg\" alt=\"Open In Colab\"/></a>"
      ]
    },
    {
      "cell_type": "code",
      "execution_count": 1,
      "metadata": {
        "colab": {
          "base_uri": "https://localhost:8080/"
        },
        "id": "C2NJVlgCYqfW",
        "outputId": "b6264423-b015-4f7f-c03a-37647095c716",
        "collapsed": true
      },
      "outputs": [
        {
          "output_type": "stream",
          "name": "stdout",
          "text": [
            "Collecting langchain\n",
            "  Downloading langchain-0.2.5-py3-none-any.whl (974 kB)\n",
            "\u001b[2K     \u001b[90m━━━━━━━━━━━━━━━━━━━━━━━━━━━━━━━━━━━━━━━━\u001b[0m \u001b[32m974.6/974.6 kB\u001b[0m \u001b[31m3.7 MB/s\u001b[0m eta \u001b[36m0:00:00\u001b[0m\n",
            "\u001b[?25hCollecting langchain-community\n",
            "  Downloading langchain_community-0.2.5-py3-none-any.whl (2.2 MB)\n",
            "\u001b[2K     \u001b[90m━━━━━━━━━━━━━━━━━━━━━━━━━━━━━━━━━━━━━━━━\u001b[0m \u001b[32m2.2/2.2 MB\u001b[0m \u001b[31m11.7 MB/s\u001b[0m eta \u001b[36m0:00:00\u001b[0m\n",
            "\u001b[?25hCollecting langchain-openai\n",
            "  Downloading langchain_openai-0.1.8-py3-none-any.whl (38 kB)\n",
            "Requirement already satisfied: PyYAML>=5.3 in /usr/local/lib/python3.10/dist-packages (from langchain) (6.0.1)\n",
            "Requirement already satisfied: SQLAlchemy<3,>=1.4 in /usr/local/lib/python3.10/dist-packages (from langchain) (2.0.30)\n",
            "Requirement already satisfied: aiohttp<4.0.0,>=3.8.3 in /usr/local/lib/python3.10/dist-packages (from langchain) (3.9.5)\n",
            "Requirement already satisfied: async-timeout<5.0.0,>=4.0.0 in /usr/local/lib/python3.10/dist-packages (from langchain) (4.0.3)\n",
            "Collecting langchain-core<0.3.0,>=0.2.7 (from langchain)\n",
            "  Downloading langchain_core-0.2.7-py3-none-any.whl (315 kB)\n",
            "\u001b[2K     \u001b[90m━━━━━━━━━━━━━━━━━━━━━━━━━━━━━━━━━━━━━━━━\u001b[0m \u001b[32m315.6/315.6 kB\u001b[0m \u001b[31m14.4 MB/s\u001b[0m eta \u001b[36m0:00:00\u001b[0m\n",
            "\u001b[?25hCollecting langchain-text-splitters<0.3.0,>=0.2.0 (from langchain)\n",
            "  Downloading langchain_text_splitters-0.2.1-py3-none-any.whl (23 kB)\n",
            "Collecting langsmith<0.2.0,>=0.1.17 (from langchain)\n",
            "  Downloading langsmith-0.1.77-py3-none-any.whl (125 kB)\n",
            "\u001b[2K     \u001b[90m━━━━━━━━━━━━━━━━━━━━━━━━━━━━━━━━━━━━━━━━\u001b[0m \u001b[32m125.2/125.2 kB\u001b[0m \u001b[31m8.2 MB/s\u001b[0m eta \u001b[36m0:00:00\u001b[0m\n",
            "\u001b[?25hRequirement already satisfied: numpy<2,>=1 in /usr/local/lib/python3.10/dist-packages (from langchain) (1.25.2)\n",
            "Requirement already satisfied: pydantic<3,>=1 in /usr/local/lib/python3.10/dist-packages (from langchain) (2.7.3)\n",
            "Requirement already satisfied: requests<3,>=2 in /usr/local/lib/python3.10/dist-packages (from langchain) (2.31.0)\n",
            "Requirement already satisfied: tenacity<9.0.0,>=8.1.0 in /usr/local/lib/python3.10/dist-packages (from langchain) (8.3.0)\n",
            "Collecting dataclasses-json<0.7,>=0.5.7 (from langchain-community)\n",
            "  Downloading dataclasses_json-0.6.7-py3-none-any.whl (28 kB)\n",
            "Collecting openai<2.0.0,>=1.26.0 (from langchain-openai)\n",
            "  Downloading openai-1.34.0-py3-none-any.whl (325 kB)\n",
            "\u001b[2K     \u001b[90m━━━━━━━━━━━━━━━━━━━━━━━━━━━━━━━━━━━━━━━━\u001b[0m \u001b[32m325.5/325.5 kB\u001b[0m \u001b[31m12.4 MB/s\u001b[0m eta \u001b[36m0:00:00\u001b[0m\n",
            "\u001b[?25hCollecting tiktoken<1,>=0.7 (from langchain-openai)\n",
            "  Downloading tiktoken-0.7.0-cp310-cp310-manylinux_2_17_x86_64.manylinux2014_x86_64.whl (1.1 MB)\n",
            "\u001b[2K     \u001b[90m━━━━━━━━━━━━━━━━━━━━━━━━━━━━━━━━━━━━━━━━\u001b[0m \u001b[32m1.1/1.1 MB\u001b[0m \u001b[31m18.1 MB/s\u001b[0m eta \u001b[36m0:00:00\u001b[0m\n",
            "\u001b[?25hRequirement already satisfied: aiosignal>=1.1.2 in /usr/local/lib/python3.10/dist-packages (from aiohttp<4.0.0,>=3.8.3->langchain) (1.3.1)\n",
            "Requirement already satisfied: attrs>=17.3.0 in /usr/local/lib/python3.10/dist-packages (from aiohttp<4.0.0,>=3.8.3->langchain) (23.2.0)\n",
            "Requirement already satisfied: frozenlist>=1.1.1 in /usr/local/lib/python3.10/dist-packages (from aiohttp<4.0.0,>=3.8.3->langchain) (1.4.1)\n",
            "Requirement already satisfied: multidict<7.0,>=4.5 in /usr/local/lib/python3.10/dist-packages (from aiohttp<4.0.0,>=3.8.3->langchain) (6.0.5)\n",
            "Requirement already satisfied: yarl<2.0,>=1.0 in /usr/local/lib/python3.10/dist-packages (from aiohttp<4.0.0,>=3.8.3->langchain) (1.9.4)\n",
            "Collecting marshmallow<4.0.0,>=3.18.0 (from dataclasses-json<0.7,>=0.5.7->langchain-community)\n",
            "  Downloading marshmallow-3.21.3-py3-none-any.whl (49 kB)\n",
            "\u001b[2K     \u001b[90m━━━━━━━━━━━━━━━━━━━━━━━━━━━━━━━━━━━━━━━━\u001b[0m \u001b[32m49.2/49.2 kB\u001b[0m \u001b[31m3.2 MB/s\u001b[0m eta \u001b[36m0:00:00\u001b[0m\n",
            "\u001b[?25hCollecting typing-inspect<1,>=0.4.0 (from dataclasses-json<0.7,>=0.5.7->langchain-community)\n",
            "  Downloading typing_inspect-0.9.0-py3-none-any.whl (8.8 kB)\n",
            "Collecting jsonpatch<2.0,>=1.33 (from langchain-core<0.3.0,>=0.2.7->langchain)\n",
            "  Downloading jsonpatch-1.33-py2.py3-none-any.whl (12 kB)\n",
            "Requirement already satisfied: packaging<25,>=23.2 in /usr/local/lib/python3.10/dist-packages (from langchain-core<0.3.0,>=0.2.7->langchain) (24.1)\n",
            "Collecting orjson<4.0.0,>=3.9.14 (from langsmith<0.2.0,>=0.1.17->langchain)\n",
            "  Downloading orjson-3.10.5-cp310-cp310-manylinux_2_17_x86_64.manylinux2014_x86_64.whl (144 kB)\n",
            "\u001b[2K     \u001b[90m━━━━━━━━━━━━━━━━━━━━━━━━━━━━━━━━━━━━━━━━\u001b[0m \u001b[32m145.0/145.0 kB\u001b[0m \u001b[31m3.8 MB/s\u001b[0m eta \u001b[36m0:00:00\u001b[0m\n",
            "\u001b[?25hRequirement already satisfied: anyio<5,>=3.5.0 in /usr/local/lib/python3.10/dist-packages (from openai<2.0.0,>=1.26.0->langchain-openai) (3.7.1)\n",
            "Requirement already satisfied: distro<2,>=1.7.0 in /usr/lib/python3/dist-packages (from openai<2.0.0,>=1.26.0->langchain-openai) (1.7.0)\n",
            "Collecting httpx<1,>=0.23.0 (from openai<2.0.0,>=1.26.0->langchain-openai)\n",
            "  Downloading httpx-0.27.0-py3-none-any.whl (75 kB)\n",
            "\u001b[2K     \u001b[90m━━━━━━━━━━━━━━━━━━━━━━━━━━━━━━━━━━━━━━━━\u001b[0m \u001b[32m75.6/75.6 kB\u001b[0m \u001b[31m7.0 MB/s\u001b[0m eta \u001b[36m0:00:00\u001b[0m\n",
            "\u001b[?25hRequirement already satisfied: sniffio in /usr/local/lib/python3.10/dist-packages (from openai<2.0.0,>=1.26.0->langchain-openai) (1.3.1)\n",
            "Requirement already satisfied: tqdm>4 in /usr/local/lib/python3.10/dist-packages (from openai<2.0.0,>=1.26.0->langchain-openai) (4.66.4)\n",
            "Requirement already satisfied: typing-extensions<5,>=4.7 in /usr/local/lib/python3.10/dist-packages (from openai<2.0.0,>=1.26.0->langchain-openai) (4.12.2)\n",
            "Requirement already satisfied: annotated-types>=0.4.0 in /usr/local/lib/python3.10/dist-packages (from pydantic<3,>=1->langchain) (0.7.0)\n",
            "Requirement already satisfied: pydantic-core==2.18.4 in /usr/local/lib/python3.10/dist-packages (from pydantic<3,>=1->langchain) (2.18.4)\n",
            "Requirement already satisfied: charset-normalizer<4,>=2 in /usr/local/lib/python3.10/dist-packages (from requests<3,>=2->langchain) (3.3.2)\n",
            "Requirement already satisfied: idna<4,>=2.5 in /usr/local/lib/python3.10/dist-packages (from requests<3,>=2->langchain) (3.7)\n",
            "Requirement already satisfied: urllib3<3,>=1.21.1 in /usr/local/lib/python3.10/dist-packages (from requests<3,>=2->langchain) (2.0.7)\n",
            "Requirement already satisfied: certifi>=2017.4.17 in /usr/local/lib/python3.10/dist-packages (from requests<3,>=2->langchain) (2024.6.2)\n",
            "Requirement already satisfied: greenlet!=0.4.17 in /usr/local/lib/python3.10/dist-packages (from SQLAlchemy<3,>=1.4->langchain) (3.0.3)\n",
            "Requirement already satisfied: regex>=2022.1.18 in /usr/local/lib/python3.10/dist-packages (from tiktoken<1,>=0.7->langchain-openai) (2024.5.15)\n",
            "Requirement already satisfied: exceptiongroup in /usr/local/lib/python3.10/dist-packages (from anyio<5,>=3.5.0->openai<2.0.0,>=1.26.0->langchain-openai) (1.2.1)\n",
            "Collecting httpcore==1.* (from httpx<1,>=0.23.0->openai<2.0.0,>=1.26.0->langchain-openai)\n",
            "  Downloading httpcore-1.0.5-py3-none-any.whl (77 kB)\n",
            "\u001b[2K     \u001b[90m━━━━━━━━━━━━━━━━━━━━━━━━━━━━━━━━━━━━━━━━\u001b[0m \u001b[32m77.9/77.9 kB\u001b[0m \u001b[31m7.5 MB/s\u001b[0m eta \u001b[36m0:00:00\u001b[0m\n",
            "\u001b[?25hCollecting h11<0.15,>=0.13 (from httpcore==1.*->httpx<1,>=0.23.0->openai<2.0.0,>=1.26.0->langchain-openai)\n",
            "  Downloading h11-0.14.0-py3-none-any.whl (58 kB)\n",
            "\u001b[2K     \u001b[90m━━━━━━━━━━━━━━━━━━━━━━━━━━━━━━━━━━━━━━━━\u001b[0m \u001b[32m58.3/58.3 kB\u001b[0m \u001b[31m5.3 MB/s\u001b[0m eta \u001b[36m0:00:00\u001b[0m\n",
            "\u001b[?25hCollecting jsonpointer>=1.9 (from jsonpatch<2.0,>=1.33->langchain-core<0.3.0,>=0.2.7->langchain)\n",
            "  Downloading jsonpointer-3.0.0-py2.py3-none-any.whl (7.6 kB)\n",
            "Collecting mypy-extensions>=0.3.0 (from typing-inspect<1,>=0.4.0->dataclasses-json<0.7,>=0.5.7->langchain-community)\n",
            "  Downloading mypy_extensions-1.0.0-py3-none-any.whl (4.7 kB)\n",
            "Installing collected packages: orjson, mypy-extensions, marshmallow, jsonpointer, h11, typing-inspect, tiktoken, jsonpatch, httpcore, langsmith, httpx, dataclasses-json, openai, langchain-core, langchain-text-splitters, langchain-openai, langchain, langchain-community\n",
            "Successfully installed dataclasses-json-0.6.7 h11-0.14.0 httpcore-1.0.5 httpx-0.27.0 jsonpatch-1.33 jsonpointer-3.0.0 langchain-0.2.5 langchain-community-0.2.5 langchain-core-0.2.7 langchain-openai-0.1.8 langchain-text-splitters-0.2.1 langsmith-0.1.77 marshmallow-3.21.3 mypy-extensions-1.0.0 openai-1.34.0 orjson-3.10.5 tiktoken-0.7.0 typing-inspect-0.9.0\n"
          ]
        }
      ],
      "source": [
        "!pip install langchain langchain-community langchain-openai"
      ]
    },
    {
      "cell_type": "code",
      "source": [
        "import os\n",
        "import getpass\n",
        "\n",
        "os.environ[\"OPENAI_API_KEY\"] = getpass.getpass()"
      ],
      "metadata": {
        "colab": {
          "base_uri": "https://localhost:8080/"
        },
        "id": "LAmNK9PPAOo8",
        "outputId": "43ca86db-e71c-4a78-a311-36f5a92133b8"
      },
      "execution_count": 2,
      "outputs": [
        {
          "name": "stdout",
          "output_type": "stream",
          "text": [
            "··········\n"
          ]
        }
      ]
    },
    {
      "cell_type": "code",
      "source": [
        "from langchain_openai import ChatOpenAI\n",
        "\n",
        "generate_model = ChatOpenAI(model=\"gpt-3.5-turbo\", base_url=\"https://api.chatanywhere.tech/v1\")\n",
        "grade_model = ChatOpenAI(model=\"gpt-4\", base_url=\"https://api.chatanywhere.tech/v1\")"
      ],
      "metadata": {
        "id": "grpEDS4JAfLJ"
      },
      "execution_count": 3,
      "outputs": []
    },
    {
      "cell_type": "code",
      "source": [
        "from langchain_core.prompts import ChatPromptTemplate\n",
        "from langchain_core.output_parsers import StrOutputParser\n",
        "\n",
        "parser = StrOutputParser()\n",
        "generate_system_template = \"你是一个善于写中国古代诗歌的诗人，接下来我会给你提供一个题目，请你围绕这个题目写一首古诗。在生成的过程中请你注意中国古代诗歌的格式要求，并且请你表达尽可能多的情感与含义。在最后输出结果时只需要生成诗歌的主体部分\"\n",
        "generate_prompt_template = ChatPromptTemplate.from_messages(\n",
        "    [(\"system\", generate_system_template), (\"user\", \"{text}\")]\n",
        ")\n",
        "\n",
        "grade_system_template = \"你是一个中国古代诗歌评论家，接下来我会给你两首诗歌，请你依据以下标准来评价这两首诗歌的得分。评分标准为：①格式。生成的唐诗是否遵循写作规则,尤其注意对仗、句数、字数、平仄（0至5分）；②创新性。生成的唐诗是否抄袭现成的诗句，是否具有创新性（0至5分）；③相关性。生成的唐诗与给定主题是否相关（0至5分）；④美学。生成的唐诗是否符合中国诗词的审美，包括寓情于物等（0至5分）；⑤整体。从整体情况评价生成的唐诗（0至10分）.请你在最后给出这几项的得分，并且你不需要给出评判的过程和任何文字只需要输出最后的5个数字。\"\n",
        "grade_prompt_template = ChatPromptTemplate.from_messages(\n",
        "    [(\"system\", grade_system_template), (\"user\", \"{text}\")]\n",
        ")"
      ],
      "metadata": {
        "id": "iP-OGioJD8oV"
      },
      "execution_count": 4,
      "outputs": []
    },
    {
      "cell_type": "code",
      "source": [
        "generate_chain = generate_prompt_template | generate_model | parser\n",
        "grade_chain = grade_prompt_template | grade_model | parser"
      ],
      "metadata": {
        "id": "SmDjjp-sDvZ_"
      },
      "execution_count": 5,
      "outputs": []
    },
    {
      "cell_type": "code",
      "source": [
        "import json\n",
        "with open(\"/content/唐诗三百首.json\", encoding=\"utf-8\") as f:\n",
        "  original_poetry = json.load(f)\n",
        "#print(original_poetry[0])\n",
        "original_text = []\n",
        "for each in original_poetry:\n",
        "  text = each[\"paragraphs\"]\n",
        "  text_all = \"\"\n",
        "  for one in text:\n",
        "    text_all = text_all + one\n",
        "  original_text.append(text_all)"
      ],
      "metadata": {
        "id": "vEvuxz4UEZ--"
      },
      "execution_count": 7,
      "outputs": []
    },
    {
      "cell_type": "code",
      "source": [
        "pip install opencc-python-reimplemented"
      ],
      "metadata": {
        "colab": {
          "base_uri": "https://localhost:8080/"
        },
        "collapsed": true,
        "id": "gFm6G9bFIkQ4",
        "outputId": "53e5a5c0-7318-4943-8015-3b4865058a5a"
      },
      "execution_count": 8,
      "outputs": [
        {
          "output_type": "stream",
          "name": "stdout",
          "text": [
            "Collecting opencc-python-reimplemented\n",
            "  Downloading opencc_python_reimplemented-0.1.7-py2.py3-none-any.whl (481 kB)\n",
            "\u001b[2K     \u001b[90m━━━━━━━━━━━━━━━━━━━━━━━━━━━━━━━━━━━━━━━━\u001b[0m \u001b[32m481.8/481.8 kB\u001b[0m \u001b[31m7.9 MB/s\u001b[0m eta \u001b[36m0:00:00\u001b[0m\n",
            "\u001b[?25hInstalling collected packages: opencc-python-reimplemented\n",
            "Successfully installed opencc-python-reimplemented-0.1.7\n"
          ]
        }
      ]
    },
    {
      "cell_type": "code",
      "source": [
        "from opencc import OpenCC\n",
        "cc = OpenCC('t2s')\n",
        "def convert(text):\n",
        "  converted = cc.convert(text)\n",
        "  return convert"
      ],
      "metadata": {
        "id": "U0kG_ocqKvzp"
      },
      "execution_count": 9,
      "outputs": []
    },
    {
      "cell_type": "code",
      "source": [
        "original_text_converted = []\n",
        "for each in original_text:\n",
        "  one = cc.convert(each)\n",
        "  original_text_converted.append(one)"
      ],
      "metadata": {
        "id": "u7wX5mksLL6b"
      },
      "execution_count": 10,
      "outputs": []
    },
    {
      "cell_type": "code",
      "source": [
        "theme = []\n",
        "for each in original_poetry:\n",
        "  title = each[\"title\"]\n",
        "  theme.append(cc.convert(title))"
      ],
      "metadata": {
        "id": "fw43IropLOA4"
      },
      "execution_count": 12,
      "outputs": []
    },
    {
      "cell_type": "code",
      "source": [
        "generated_text = []\n",
        "generated_score = []\n",
        "for i in range(100):\n",
        "   poem = generate_chain.invoke(f\"请你围绕{theme[i]}这个题目写一首古诗\")\n",
        "   grade = grade_chain.invoke(f\"{poem}\")\n",
        "   generated_text.append(poem)\n",
        "   generated_score.append(grade)\n",
        "print(generated_text)\n",
        "print(generated_score)"
      ],
      "metadata": {
        "colab": {
          "base_uri": "https://localhost:8080/"
        },
        "id": "fTehEVJfNj-l",
        "outputId": "82a43bc7-640f-4434-eafe-54ad7e2835f8"
      },
      "execution_count": 68,
      "outputs": [
        {
          "output_type": "stream",
          "name": "stdout",
          "text": [
            "['登高望远思难穹，\\\\\\n岳咏蝉鸣动心中。\\\\\\n夜深人静听声断，\\\\\\n悠扬婉转入梦中。', '幽州台高远，登临望秋色。\\n烟波浩渺间，思绪如飞絮。\\n山川皆画境，云霞共舞曲。\\n心随风飘荡，何处是归宿。', '昔日先贤孔子明，经邹鲁祭感怀情。\\n百年风雨传佳话，千古遗风仰圣贤。\\n凝思往事泪沾袖，铭记功德心永远。\\n教化苍生传不朽，千古丰碑永流传。', '青袍红袖舞将进，醉卧花间思绪深。\\n琴韵悠扬酒尚温，一曲高歌情不禁。\\n金樽对酒心似火，豪情万丈意何极。\\n风吹杨柳醉眼瞳，浮生若梦醉中寻。', '黄河远上白云间，横吹曲辞出塞关。\\n万里戈声吹戍急，孤城孤驿望乡关。\\n胡尘暮色笼平野，战马踏雪渡寒山。\\n忆君心事殷勤问，愿将边疆报平安。', '黄河曲曲出塞地，胡马横行万里间。\\n烽火台边烽烟起，将军独立望乡关。\\n沙场战鼓齐鸣响，刀枪如雨血染山。\\n忆往昔，边烽火；思归人，泪沾巾。\\n今朝岁月今何在，烽火犹燃塞外天。\\n愿得安邦归故里，不再横吹曲辞传。', '关山月，横吹曲辞，\\n独倚栏杆思往事。\\n寒风吹散忧愁意，\\n皎皎明月照我心。\\n\\n山川万里情无限，\\n江湖风波梦自深。\\n且将心事随风去，\\n任月光洒满山阴。', '婚礼喜临门，新嫁娘踏红被。\\n花烛辉煌夜，笑语绕耳畔。\\n亲朋皆祝福，良人情意切。\\n共结良缘牢，白首不分离。', '故行宫，古木参天碧瓦红，\\n往事如烟，落霞映照残阳。\\n殿宇荒凉，风吹落叶满庭廊，\\n寂寞凝望，燕归无人诉离伤。\\n往昔繁华，今成空谷幽长，\\n凝望远方，泪洒断桥残梦乡。', '锦瑟悠扬古调清，缠绵低吟入夜情。\\n弦断音绝泪沾袖，翩跹舞动思绪生。\\n长夜寂寞凝霜雪，孤灯照影泪漫流。\\n梦中锦瑟如花落，凄凉离恨断肠愁。', '碧树枝头唤晓蝉，清风徐来叶欲翻。\\n声声绕梁思无穷，千古传颂韵犹存。\\n岁月流转似轮转，何惧芳华转眼繁。\\n但愿人间能长在，与蝉共舞世间恩。', '青山翠竹绕乐游，溪水潺潺草萋萋。\\n林间鸟语韵琴韵，花间风起舞幽幽。\\n登高一望云蒸霞，心随飞鸟意无羁。\\n且将闲逸留心间，与山水共乐游行。', '夜深人静雨潺潺，\\n寄情北国思难言。\\n孤灯一盏照窗外，\\n泪滴无声滋心田。\\n\\n江水东流似故人，\\n相逢何处共悲辛。\\n愁云渡口难相见，\\n独守寒窗待明晨。', '韩碑高耸入云天，\\n千古传扬史载传。\\n铭刻功勋丹心在，\\n留存山川万古烟。\\n\\n英名永镌石上存，\\n风雨依旧不曾改。\\n前贤遗爱今犹在，\\n凝望碑文思万端。', '狂风呼啸暴雨催，  \\n乱云飞舞挡不开。  \\n山川哀鸣泪水落，  \\n江海波澜心悲哀。  \\n风雨交加夜漫长，  \\n孤舟独影入迷乡。  \\n愿借明月光为伴，  \\n共赏风雨情更长。  ', '寄令狐郎中\\n\\n青山落照水悠悠，  \\n寄语令狐心自由。  \\n独立江湖傲世态，  \\n剑指苍穹笑风流。\\n\\n明月高悬星如雨，  \\n杯酒邀君共一游。  \\n千年诗韵今犹在，  \\n寄言令狐永相求。', '翠华流丽隋宫春，\\n金碧辉煌画栋新。\\n御沟水榭花烂漫，\\n舞袖歌歌舞蹁跹。\\n\\n徭役千夫兴筑基，\\n百工匠心雕细泥。\\n玉阶红粉宫中起，\\n风神舞动芳菲时。\\n\\n飘零风雨沧桑尽，\\n留下千古梦幻情。\\n隋宫遗址今犹在，\\n游人感慨古今情。', '筹笔驿，古道旁，\\n行人往来思故乡。\\n孤灯寂寞照孤影，\\n寄语离愁寄远方。\\n\\n驿馆寒风吹古木，\\n墨痕斑驳写离愁。\\n盼望归人心自苦，\\n江南烟雨渐无忧。\\n\\n筹笔驿，驿中客，\\n寄情山水寄愁怯。\\n卷起诗卷寄心声，\\n临风吟唱泪沾衣。', '潮起潮落情何限，\\n浪漫风情入梦间。\\n朝朝暮暮皆相伴，\\n共度时光似水流。', '碧水悠悠映轻舟，翠岛蝉鸣暮雨收。\\n江南烟雨思依依，芳草萋萋柳垂繡。\\n波光粼粼花枝动，游人欢笑入画楼。\\n千古风流情何限，且将心事共西流。', '黄河泛滥情何极，\\n乱石崩天水不息。\\n英雄豪杰今何在，\\n唯见烽烟满天起。', '翠色隋宫映暮晖，\\n飞檐翩翩舞翠微。\\n往事如烟梦中去，\\n千年宫殿泪沾衣。\\n\\n流水萦回鸳鸯舞，\\n金阶玉宇掩愁霾。\\n昔日繁华今何在，\\n唯余烟柳画中来。', '落红如许终成尘，\\n飘零飘零随春尽。\\n花开花落任风吹，\\n几许离愁随水去。\\n\\n寂寥寥夜凉如水，\\n凄凄凄梦断无痕。\\n红尘红尘任流转，\\n浮生浮生苦无因。', '清风吹拂古道间，\\n千年石桥见证传奇。\\n山水相依情更浓，\\n岁月如歌韵未央。\\n\\n古树参天拥翠荫，\\n流水潺潺伴幽思。\\n春来花开满山岗，\\n秋至叶落寄相思。\\n\\n诗意盈怀寄高情，\\n丹心照影古人心。\\n一念红尘情难断，\\n世间万事皆如梦。', '无题\\n\\n无题何解情难诉，\\n一片孤烟悄无声。\\n寂寞长夜无知己，\\n独坐空房泪两行。', '瑶池仙境幻无痕，玉树琼花映碧潭。\\n仙女红衣舞翩翩，琴音悠扬醉人间。\\n祥瑞飘飘花光散，云霞飞舞月华寒。\\n翠竹婆娑风吹拂，湖水波光梦中看。', '细雨轻飘春草绿，梧桐叶上滴晶莹。\\n滋润田畴润人心，滋养万物生机盛。\\n轻拂花枝娇欲语，润泽蝉鸣意正浓。\\n春雨如丝情意长，滋润大地又一场。', '常娥孤影思归路，独立寒江月欲垂。\\n嫦娥遥望天边远，泪湿罗衣梦断时。\\n桂花飘香寄相思，凝望长空叹流离。\\n青鸟南飞心已碎，空留寂寞古今诗。', '碧水悠悠映夕阳，\\n孤帆一片渡川江。\\n江山如画人如梦，\\n忧愁烟雨满江樯。', '翠竹摇风婀娜姿，无题诗意寄清诗。\\n碧波荡漾情无限，二八佳人笑春梦。', '昔日贾生醉眠花，\\n一梦千年泪满襟。\\n酒醒已是他乡客，\\n江山依旧梦中行。', '清风吹拂凉思来，\\n寒夜孤灯照古台。\\n思念故人泪露滴，\\n独坐青石叹时催。', '北青萝，翠色娇，\\n寒露初降草叶凋。\\n夜深风起啼寒鸦，\\n孤灯影落照秋霄。\\n\\n愁思牵绕情何似，\\n明月皎皎心空寥。\\n且将离别抛襟袖，\\n北青萝下共沉樵。', '千古赤壁留英雄，烟波江上舞飞箭。\\n铁马银枪战风沙，谁主沉浮一世间。\\n曲终人散情难尽，唯愿豪杰永安然。\\n纵使江山多艰险，忠魂不改誓死战。', '夜深风起章台寺，忧思缠绕断肠丝。\\n寒烛照尽残影落，孤独凝结心事迷。\\n寂寥寺院钟声断，悠悠思绪入梦时。\\n问天何时能解忧，明月高悬泪痕滴。', '金陵城外风景秀，翠峰倒影水中流。\\n春风吹拂柳垂丝，花影婆娑入画楼。\\n\\n湖光山色皆如梦，古今交织在眼前。\\n金陵图画留心间，千古风华永流传。', '曦日初升照台城，\\n城楼巍峨俯云生。\\n黄沙飞扬遮古道，\\n征战烽火照天明。\\n\\n千载风雨留遗迹，\\n一座城池守边疆。\\n将军旌旗飘飘扬，\\n壮士豪情永流传。\\n\\n岁月沧桑古台城，\\n历经沧海人未倦。\\n烈火燃烧铸长城，\\n英雄气概凌云天。', '宫词何处寻，翩翩舞袖音。\\n往事如烟梦，芳华似水心。\\n细语藏珠泪，轻吟隐玉吟。\\n凝望青楼影，飘零旧时尘。', '江水悠悠似往昔，\\n楚国风华已成尘。\\n千古传丝织梦境，\\n怀古情怀泪盈巾。', '灞上秋居，落叶飘零，寒风凛冽，寂寥悠远。\\n独坐窗前，思绪万千，往事如烟，梦魇连绵。\\n江山依旧，岁月蹉跎，古木斜阳，泪痕满面。\\n忆往昔恩情，犹在心田，愁肠百结，情绪难宣。\\n灞水悠悠，秋意渐浓，孤舟归去，烟波渺茫。', '马嵬坡，汉家陵，英雄遗骨埋青苔。\\n千载风雨几多愁，征战惊魂梦不开。\\n长烟敛日笼秋色，孤松寂寞立寒台。\\n烽火已烧千万里，犹闻战马嘶残晖。', '故人何处寻，已没蕃山深。\\n往事如烟散，泪滴如珠阴。\\n相逢在梦境，共醉话当年。\\n但愿长相见，莫负旧时情。', '春风吹拂花枝翠，春怨情长泪满衣。\\n芳草萋萋思绵绵，燕子归来泪沾衣。\\n春水悠悠情难寄，春雨绵绵泪难收。\\n相思苦短春光暖，怨情无尽泪如梭。', '春风吹散忧愁思，遥望天涯泪满巾。\\n昨夜梦中悲欢聚，今朝醒后空牵绳。', '凄凉寒夜泪沾巾，\\n思念往事挥不尽。\\n风吹残梦入梅雨，\\n悲怀难遣心如织。', '愁眠夜夜长，\\n泪洒思无常。\\n凭栏望青山，\\n何时得解忧。', '行宫春色迷，柳拂金缕衣。\\n花开如海梦，风起似歌诗。\\n\\n征人归未得，燕子去无依。\\n寂寞空庭暗，翠幕落残晖。\\n\\n思悠悠难尽，泪滴滴空滋。\\n愁绪如丝乱，愿得共君携。\\n\\n行宫寄离别，情断树梢梅。', '飞骑凌霄哥舒歌，烽火烈焰照乾坤。\\n英雄豪气驰长路，剑指苍穹誓誓存。\\n万里征途心不改，铁血柔肠展豪情。\\n风云变幻谁能料，唯有战鼓奏悠扬。', '春风吹拂杂花开，\\n十三烟火映窗台。\\n红尘浮华如梦幻，\\n人间离合几多哀。\\n\\n花落花开转眼间，\\n十三岁月匆匆过。\\n世事沧桑皆浮云，\\n唯愿平安抚心扉。', '寒山深处隐离愁，独坐枯松听风流。\\n杂诗三首诗意阔，悠悠心事共谁愁。\\n飞絮飘零花落尽，明月皎洁云深秋。\\n挥毫泼墨情难尽，且将心事寄诗篇。', '朝日初升照古寺，古意补阙在心扉。\\n乔木参天凌云汉，知音相伴问禅机。\\n清风拂面吹心静，明月当空照古辉。\\n修心养性求真谛，静坐默念悟生机。', '次北固山下，翠峦拥翠，如屏如帷。\\n山水相依，云深处，鸟鸣声声，风轻池面微。\\n曲径通幽，石阶盘旋，古树参天，青苔蔽地。\\n心随风起，思绪万千，忆往昔，悠悠岁月长。\\n山川河流，皆成诗篇，岁月静好，心境清欢。', '碧水潺潺桃花开，谿间春意盛情来。\\n山川青翠娇媚态，风吹花影泛波涯。\\n婀娜红颜舞翩跹，芳菲香韵入人怀。\\n思念故人心依旧，桃花谿畔共倾杯。', '暮色渐浓送别时，\\n离情别绪共牵绊。\\n相随相伴忆昔日，\\n今日离愁满心间。\\n\\n风吹残柳泪痕湿，\\n雁过孤云思绪远。\\n别后相思难言语，\\n只盼相见在明天。', '送綦毋潜落第还乡，\\n\\n青山绿水又迎霜。\\n\\n离别别离情难抒，\\n\\n往事如烟梦中忘。\\n\\n孤舟泛月江潮静，\\n\\n归鸟归林夜色长。\\n\\n故国故人心依旧，\\n\\n思念情深泪两行。', '碧水潺潺落绿波，翠岭峥嵘映日多。\\n山谷幽深闻鸟语，青谿清澈见鱼躲。\\n林间花影婆娑舞，岩上松风轻拂罗。\\n忆君共赏此景时，心灵相通意无疏。', '渭川田家春意浓，桃花娇艳笑颜红。\\n翠竹婆娑迎微风，青山碧水绕村庄。\\n农夫耕耘忙田地，稻谷禾苗满眼中。\\n家家户户皆安乐，丰收在望喜气浓。', '西施咏，花下娇，\\n婉转歌声动人心。\\n烟波浩渺烟雾敛，\\n一袭轻云舞九霄。\\n\\n丽姿婀娜倾国色，\\n羞颜含笑映春风。\\n千古佳人传佳话，\\n绝世容颜动神仙。', '将星沉沉古战场，老将行走泪痕伤。\\n刀枪过处人皆倦，征途漫长一生长。\\n战火燃尽心未灭，忠魂犹存意气昂。\\n白发苍颜仍战意，宝刀未老誓续强。', '桃花盛开映山红，幽径蜿蜒入梦中。\\n溪水潺潺流不尽，翠峰层叠护乡村。\\n\\n渔歌唱晚柳垂岸，烟雨蒙蒙梦自幽。\\n桃源何处寻无踪，唯有心中留清香。', '洛阳女儿行，\\n\\n巧笑嫣然春风起。\\n\\n红裙飘飘舞步轻，\\n\\n花落柳绿情意深。\\n\\n扶影倚栏思无穷，\\n\\n婉约娇羞似花榭。\\n\\n清歌如泣古今情，\\n\\n倾城倾国艳如霞。', '山外青山水悠悠，辋川闲居赠裴秀才迪。\\n心驰思绪随风飞，诗意浓浓情意微。\\n晨起披衣觅清幽，夕阳西下独倚楼。\\n琴声绕耳思无穷，岁月如歌意自由。\\n愿君独享诗酒欢，共话人生梦幻游。', '官渡风高雁自南，\\n少府才华博大宽。\\n笔下文章如云烟，\\n诗成风骨自天然。\\n\\n才子才情难自遏，\\n诗篇悠悠入梦幻。\\n明月清风共赏心，\\n酬张少府此情深。', '遥想梓州李使君，\\n才子佳人赋文章。\\n风吹杨柳绿堤畔，\\n思念往事泪双垂。\\n\\n九州山川皆胜景，\\n唯有离别最凄清。\\n愿将相思寄明月，\\n传达心声到君耳。', '青楼玉台夜未央，\\n烛光摇曳映娇妆。\\n红袖轻拂弦声绕，\\n倩影含羞舞细腔。\\n\\n花颜娇艳妆浓淡，\\n风情万种娇羞态。\\n醉眼迷离情难断，\\n绮罗缠绵梦萦绕。', '青山翠翠映朝霞，\\n石上苔藓润微华。\\n风吹古树摇轻影，\\n鸟啼山谷韵悠哉。\\n\\n山川变幻情长存，\\n石砾沧海岁月痕。\\n登高一望心自远，\\n人生如山石坚坚。', '明月高悬挂枝头，\\n八月十五夜似银钩。\\n张功曹行事稳当，\\n心怀仁义赢人投。\\n\\n皓魄当空照乾坤，\\n功成名就誉踞峰。\\n忠诚仁德传千古，\\n功曹英名永流传。', '山川古老镇人心，谒衡岳庙探幽寻。\\n登临门楼临崇岳，寄语松风诉往今。\\n云开月落寺钟动，石径松涛夜色深。\\n心灵似水澄澈澄，感受山川与自心。', '已凉秋日暮，寒风起苍茫。\\n枯叶飘零散，寂寞满山乡。\\n孤鸿南飞远，思念入心肠。\\n独坐窗前望，泪湿芳草芳。', '碧窗寂寞对春风，  \\n绣户阑珊泪满空。  \\n花枝不语燕归晚，  \\n翠影无情梦断魂。  ', '昔日江南水，近试上张籍。\\n文风如流水，笔下生花蕊。\\n登临览风景，心驰如鸿翼。\\n挥毫泼墨间，豁然开心扉。\\n翰墨留千古，诗篇传后世。\\n愿借张籍力，笔下留芳华。', '日出东方照吴兴，登高一望心悠想。\\n乐游原上风吹面，翠竹摇摆鸟啼响。\\n山川古朴如画意，水波荡漾似诗章。\\n思绪飘飘随风去，人间仙境自在长。', '烽火烛赤壁，英雄聚此时。\\n千古传佳话，豪气亦如斯。\\n曲水流红日，孤舟逐风起。\\n三国战乱世，谁主天下谁？\\n\\n雄图震九州，谋略胜千里。\\n赤壁今安在，烟波渡鸟飞。\\n千古英雄墓，一时豪杰归。\\n江山如画里，风云依旧稀。', '秦淮泊影落，烟波渺渺情怀多。\\n桨声悠悠夜未央，江畔人家柳垂条。\\n明月皎皎照波心，往事如梦难重寻。\\n倚栏思故国，泪湿罗衣凝绝艳。', '迢迢离别情难断，\\n青山何处寄相思。\\n相思忆入长空远，\\n泪洒离人泪满川。', '离别难免情何限，\\n相逢不易泪如雨。\\n送君千里行，\\n愁绪难禁情难禁。\\n相思如潮水，\\n无尽思念向天际。\\n愿君平安归，\\n待我相见再相许。', '黄昏寂寞遣怀深，\\n凭栏独立望乡心。\\n风吹古树梧桐落，\\n月照空林松柏阴。\\n\\n寒江独钓思无穷，\\n孤舟泛泛水悠悠。\\n忆往昔时情难忘，\\n泪湿衣襟泪盈眸。', '秋夕寒风起，\\n落叶飘零时。\\n寂寥孤灯影，\\n思绪渐沉迷。\\n\\n夜深人静处，\\n独立窗前愁。\\n忆往昔田园，\\n岁月如流水。\\n\\n秋虫声渐远，\\n月影隐疏篱。\\n凭栏望星斗，\\n心事难言辞。', '金谷园中游，翠竹掩春愁。\\n花开绕亭榭，流水入池流。\\n柳垂金缕带，鸟语柳丝柔。\\n轻风吹古道，思绪如云浮。', '迢迢旅途入夜深，孤灯照影梦难寻。\\n客栈寂寥思故乡，寒衣独卧听风吟。\\n\\n枕上往事如云烟，飘飘风雨泪阑干。\\n愁人夜深情更切，明月当空伴我心。', '红叶飘零满地秋，\\n疏疏落落似断线。\\n寒蝉声绝寂无声，\\n空留寂寞泪沾衣。', '秋风凉，叶落黄，\\n赴阙行，潼关驿楼旁。\\n征人去，望乡思，\\n背日西飞燕，心伤长。\\n\\n关山远，边草疏，\\n征途难，客泪无数。\\n鸿雁过，孤云散，\\n烽火照征衣，梦断残。\\n\\n旅途迢，心路难，\\n梦归处，何处安舒。\\n但愿日，长安远，\\n岁月匆匆过，情深似水。', '迢迢寄人何处去，\\n一纸书信寄心头。\\n忧喜交加难自禁，\\n相思如海波涛愁。\\n\\n山高水远路漫漫，\\n思念如丝绵绵长。\\n且将深情寄微风，\\n愿得佳音传心房。', '黄土飞扬陇西行，\\n翠影婆娑水长流。\\n驼铃声声思远道，\\n骑马逐风心自由。', '三十二篇颂古声，拾二拾三情意浓。\\n时光如梦悠悠过，古人留下智慧中。\\n风雨沧桑千古恨，山河壮美任徘徊。\\n星光璀璨照古今，书写辉煌续辉煌。', '明月高悬后宫墙，翠幕深深掩娇光。\\n宫娥绣户歌声起，琼筵瑶阶舞影长。\\n\\n春风吹拂花影动，细雨轻抚柳丝香。\\n一夜徭役无人见，空留寂寞泪痕伤。', '远方外弟来相访，\\n欢声笑语乐无边。\\n共话家乡思故国，\\n心心相印情更坚。', '江南风光似画图，\\n烟雨蒙蒙水如珠。\\n湖光山色皆诗意，\\n扁舟轻唱柳丝舞。\\n\\n桃花嫣红春梦醉，\\n梦回南国柳成帷。\\n温柔乡思随风至，\\n江南词韵入诗怀。', '受降城下夜如水，铁马踏过月明时。\\n城头笛韵悠扬远，吹断征人梦不知。\\n烽火照耀千里地，战鼓声声入云梯。\\n忆往昔，戎马纵横处，今宵谁共赏笛悲。', '碧玉轻敲，声声入耳，\\n婉转如泣，悠扬似风。\\n清风徐来，拂过窗棂，\\n弦上情丝，绵绵无终。\\n\\n思念如烟，缭绕心头，\\n弹指间，悠悠如梦。\\n遥望星河，思念迢迢，\\n独坐窗前，万般情愁。\\n\\n古调悠扬，传世千年，\\n弹指一挑，旧梦重现。\\n听筝声声，如闻故人，\\n泪湿衣襟，情意绵绵。', '夜深沉，贼平后，\\n送人北归路茫茫。\\n离别情，难言表，\\n泪满巾，思绵绵。\\n\\n故乡在，心何处，\\n乡愁满怀难自禁。\\n春风吹，花已落，\\n归来时，何日寻。\\n\\n风吹柳，夜如水，\\n明月高悬挂天际。\\n独坐思，愁难寐，\\n念此情，何时已。', '云阳馆别韩绅\\n\\n云阳馆别韩绅，离别情深意难任。\\n烛火残痕照别路，寒烟散尽泪沾巾。\\n细雨如丝笼远梦，孤鸿惊落碧空春。\\n相思断肠千万缕，愁绪萦回不忍离。\\n\\n愿言谈笑共时光，共赏明月共醉乡。\\n但愿归来还相见，共话平生共梦长。\\n岁月流逝江水阔，相思如烛永不休。\\n云阳馆别韩绅处，休言离别泪沾巾。', '细雨悄无声，卢纶宿客庭。\\n喜逢外弟至，情意倍添深。\\n琴弦寂不语，烛影照相寻。\\n共话人生事，共赏月华心。', '听琴声清扬何处来，\\n幽幽心曲入耳来。\\n指尖轻拂弦上音，\\n思绪如波荡漾开。\\n\\n古调婉转情何限，\\n悠扬旋律入人心。\\n挥洒离愁化忧愁，\\n弦上情丝绵绵深。\\n\\n凝神聆听意无穷，\\n心随音律入梦中。\\n琴声入耳悦心灵，\\n一曲清音醉人心。', '山川万古路，送方外上人。\\n离愁满别泪，相望隔尘尘。\\n行困天地阔，心随风露频。\\n何时重归去，共话世间真。', '清风送灵澈，上人离尘世。\\n悠然步云端，心静如止水。\\n经世浮沧海，悟道入苍穹。\\n一念觉悟间，万法皆空虚。', '红烛辉煌照岁华，\\n福临门庭喜洋洋。\\n金鸡报晓迎新岁，\\n团圆欢乐贺新年。\\n\\n喜迎春节花灯耀，\\n欢歌笑语绕庭前。\\n家家户户喜迎福，\\n幸福美满乐无边。', '秋风吹拂登吴台，\\n远眺陈将战场开。\\n寺中吴明彻英气，\\n千古传颂战功来。\\n\\n高台凝望秋色远，\\n古寺寥廓思绵绵。\\n英雄豪气今犹在，\\n战火烽烟古今传。\\n\\n迢迢战场寺遥望，\\n将士豪情映秋光。\\n明彻吴将功勋在，\\n千秋传颂壮士场。', '南溪山水静幽幽，常山道人隐其头。\\n翠竹掩映花间过，清风拂面意何求。\\n青藤缠绕古庙宇，松涛深处听钟声。\\n世事如梦随流水，唯有禅心永安舟。', '离别难言别离情，\\n王十一南游泪沾衣。\\n青山不改旧时色，\\n江水长流古路微。\\n愿君平安归故里，\\n且把相思寄明月。\\n明月不语知我意，\\n空留寂寞在人间。']\n",
            "['4 4 3 4 8', '4, 5, 4, 5, 9', '5 4 5 4 8', '4.5, 4, 4, 4.5, 9', '5 5 5 5 9', '5 5 5 5 10', '4 4 4 4 8', '5 5 5 5 10', '4, 4, 4, 4, 8', '4 4 5 5 8', '4.5, 4, 4.5, 4.5, 9', '4, 4, 4, 4, 8', '4.5, 4, 4, 4.5, 8.5', '4.5, 4, 4.5, 4.5, 8.5', '4.5 4 4.5 4 8.5', '4.5 4.5 4 4 8.5', '5 4 5 5 9', '4.5 4 4.5 4.5 8.5', '4 4 5 4 8', '5 4 5 5 9', '4 4 4 4 8', '4, 4, 4, 4, 8', '4.5 4 4.5 4.5 8.5', '4.5, 4, 5, 4.5, 9', '4,4,3,4,7', '5 5 5 5 10', '5 5 5 5 10', '5 5 4 5 9', '5 5 5 5 9', '4 4 3 4 7', '5 5 5 5 10', '4, 4, 4, 4, 8', '4.5 4.5 4 4.5 8', '5 4 5 4 8', '4.5, 4, 4.5, 4, 8.5', '5 5 5 5 10', '4 5 5 5 8', '4, 4, 4, 4, 7', '4, 4, 4, 5, 8', '4 4 4 4 8', '4 4 5 5 8', '5 4 4 5 8', '4,4,5,4,7', '4,5,4,4,8', '4 4 4 4 8', '4 4 3 4 7', '5 4 4 4 8', '4.5 4.5 4 4.5 9', '5 5 5 5 10', '4,4,4,4,8', '4, 4, 4, 4, 8', '4 4 5 5 9', '5 5 5 5 10', '4, 4, 5, 4, 8', '4, 4, 5, 4, 8', '4.5, 4, 4.5, 4.5, 9', '5 4 5 5 9', '5 4 5 5 9', '5 5 5 5 10', '4.5, 4.5, 4, 4.5, 8.5', '5 5 5 5 10', '4,5,4,4,8', '4, 3, 5, 4, 7', '4,4,5,4,8', '5 5 5 5 10', '4, 5, 4, 4, 8', '4.5, 4, 5, 4.5, 9', '4.5, 4.5, 4, 4, 8.5', '4,5,5,5,9', '4, 4, 3, 4, 7', '5 4 4 5 9', '4.5, 4, 4.5, 4.5, 9', '4 4 4 4 8', '4 4 5 4 8', '4,4,4,4,8', '4 4 5 4 8', '4.5, 4, 5, 4.5, 9', '5 5 5 5 10', '5 4 5 5 9', '4.5, 4, 5, 4.5, 9', '4 4 4 4 8', '5 4 4 4 7', '4.5, 4, 4.5, 4, 8.5', '4 4 4 5 8', '4 4 4 4 8', '4.5, 4, 3.5, 4, 8.5', '5 5 5 5 10', '5 5 5 5 10', '4.5, 4, 5, 4.5, 8.5', '4.5 4.5 4 4.5 9', '4, 5, 4, 5, 9', '4,4,4,4,8', '5 4 4 5 9', '5 5 5 5 10', '5 5 4 4 8', '5 5 5 5 10', '5 5 5 5 10', '4,4,4,4,8\\n\\n4,4,4,4,8\\n\\n4,4,4,4,8', '5 5 5 5 9', '5 4 5 4 8']\n"
          ]
        }
      ]
    },
    {
      "cell_type": "code",
      "source": [
        "human_score = []\n",
        "for i in range(100):\n",
        "  grade = grade_chain.invoke(f\"{original_text_converted[i]}\")\n",
        "  human_score.append(grade)\n",
        "print(human_score)"
      ],
      "metadata": {
        "colab": {
          "base_uri": "https://localhost:8080/"
        },
        "id": "fpuEZjnfUI5S",
        "outputId": "a0683cc9-f44e-4368-9705-0c9d4de0df98"
      },
      "execution_count": 14,
      "outputs": [
        {
          "output_type": "stream",
          "name": "stdout",
          "text": [
            "['4, 4, 4, 4, 8', '5 5 5 5 10', '4 4 4 4 8', '5 2 5 5 8', '5 5 5 5 10', '5 5 4 5 9', '5 5 5 5 9', '3.5, 3.5, 3, 4, 7.5', '5 5 5 5 10', '5 5 4 5 9', '4 4 3 4 8', '5 5 5 5 10', '5 5 5 5 10', '5 5 5 5 10', '4, 4, 5, 4, 8', '4 4 4 4 8', '5 5 5 5 10', '4 4 3 4 8', '5 5 4 5 9', '4.5, 5, 5, 4.5, 9', '4,5,4,5,8', '4 4 5 4 8', '5 5 5 5 10', '4 4 3 4 8', '5 4.5 4 4.5 8.5', '4, 4, 5, 4, 8', '5 4 5 5 9', '5, 5, 5, 5, 9', '4, 5, 3, 4, 7', '5 5 4 5 9', '4.5 4.0 4.0 4.5 8.5', '4 3 4 4 8', '4,4,4,4,8', '4, 4, 3, 4, 8', '4.5 4 4.5 4.5 9', '4 5 4 4 8', '4,4,4,4,8', '5 5 4 5 9', '4 4 4 4 8', '4,4,4,4,8', '4 4 5 4 8', '4, 4, 5, 4, 8', '4 4 3 3 7', '4 4 4 4 8', '5 4 4 4 8', '4, 3, 3, 4, 7', '5 4 4 5 8', '5 5 5 5 9', '4 3 4 4 8', '5 5 5 5 10', '5 5 5 5 10', '5 4 4 5 9', '4 4 4 4 8', '5 5 5 5 10', '5 4 4 4 8', '5 4 5 5 9', '5,4,5,4,8', '5 4 5 4 8', '5 5 5 5 9', '4 4 3 4 8', '4 4 4 4 8', '5 4 4 5 8', '5 5 4 5 9', '4 4 3 4 7', '4 4 3 4 7', '5 5 5 4 9', '4, 5, 4, 4, 7', '4 4 4 4 8', '4.5 4.5 4 4.5 8.5', '4,4,3,5,7', '5 4 4 4 8', '4 4 4 4 8', '4 3 4 4 8', '5 5 4 5 9', '5 4 4 5 9', '4 4 4 4 8', '4, 5, 4, 5, 8', '5 5 4 5 9', '4.5 4.5 4 4.5 8.5', '5 5 5 5 10', '4 4 3 4 8', '4, 4, 4, 5, 8', '5 4 4 5 8', '5 4 4 4 8', '4 4 3 4 7', '4, 5, 4, 4, 8', '5 5 5 5 10', '4,5,4,4,8', '4 5 4 5 8', '4 4 5 5 8', '4.5 4.5 4 5 9', '4, 4, 4, 5, 8', '5 4 4 4 8', '5 4 3 5 8', '5 4 3 4 7', '4, 4, 3, 4, 8', '5 5 3 4 8', '4,4,4,4,8', '5 4 4 5 8', '5 4 4 4 8']\n"
          ]
        }
      ]
    }
  ]
}