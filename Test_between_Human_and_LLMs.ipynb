{
  "nbformat": 4,
  "nbformat_minor": 0,
  "metadata": {
    "colab": {
      "provenance": [],
      "authorship_tag": "ABX9TyNbINud0sp8lczOX2H1KaYv",
      "include_colab_link": true
    },
    "kernelspec": {
      "name": "python3",
      "display_name": "Python 3"
    },
    "language_info": {
      "name": "python"
    }
  },
  "cells": [
    {
      "cell_type": "markdown",
      "metadata": {
        "id": "view-in-github",
        "colab_type": "text"
      },
      "source": [
        "<a href=\"https://colab.research.google.com/github/Yutongzhang20080108/Using-a-Combination-of-DPO-and-RAG-to-Improve-the-Chinese-Poetry-Generation/blob/main/Test_between_Human_and_LLMs.ipynb\" target=\"_parent\"><img src=\"https://colab.research.google.com/assets/colab-badge.svg\" alt=\"Open In Colab\"/></a>"
      ]
    },
    {
      "cell_type": "code",
      "execution_count": 1,
      "metadata": {
        "colab": {
          "base_uri": "https://localhost:8080/"
        },
        "id": "C2NJVlgCYqfW",
        "outputId": "17673766-1a89-4266-995a-a3cf98549bc4",
        "collapsed": true
      },
      "outputs": [
        {
          "output_type": "stream",
          "name": "stdout",
          "text": [
            "Collecting langchain\n",
            "  Downloading langchain-0.2.5-py3-none-any.whl (974 kB)\n",
            "\u001b[2K     \u001b[90m━━━━━━━━━━━━━━━━━━━━━━━━━━━━━━━━━━━━━━━━\u001b[0m \u001b[32m974.6/974.6 kB\u001b[0m \u001b[31m5.5 MB/s\u001b[0m eta \u001b[36m0:00:00\u001b[0m\n",
            "\u001b[?25hCollecting langchain-community\n",
            "  Downloading langchain_community-0.2.5-py3-none-any.whl (2.2 MB)\n",
            "\u001b[2K     \u001b[90m━━━━━━━━━━━━━━━━━━━━━━━━━━━━━━━━━━━━━━━━\u001b[0m \u001b[32m2.2/2.2 MB\u001b[0m \u001b[31m22.2 MB/s\u001b[0m eta \u001b[36m0:00:00\u001b[0m\n",
            "\u001b[?25hCollecting langchain-openai\n",
            "  Downloading langchain_openai-0.1.8-py3-none-any.whl (38 kB)\n",
            "Requirement already satisfied: PyYAML>=5.3 in /usr/local/lib/python3.10/dist-packages (from langchain) (6.0.1)\n",
            "Requirement already satisfied: SQLAlchemy<3,>=1.4 in /usr/local/lib/python3.10/dist-packages (from langchain) (2.0.30)\n",
            "Requirement already satisfied: aiohttp<4.0.0,>=3.8.3 in /usr/local/lib/python3.10/dist-packages (from langchain) (3.9.5)\n",
            "Requirement already satisfied: async-timeout<5.0.0,>=4.0.0 in /usr/local/lib/python3.10/dist-packages (from langchain) (4.0.3)\n",
            "Collecting langchain-core<0.3.0,>=0.2.7 (from langchain)\n",
            "  Downloading langchain_core-0.2.9-py3-none-any.whl (321 kB)\n",
            "\u001b[2K     \u001b[90m━━━━━━━━━━━━━━━━━━━━━━━━━━━━━━━━━━━━━━━━\u001b[0m \u001b[32m321.8/321.8 kB\u001b[0m \u001b[31m11.2 MB/s\u001b[0m eta \u001b[36m0:00:00\u001b[0m\n",
            "\u001b[?25hCollecting langchain-text-splitters<0.3.0,>=0.2.0 (from langchain)\n",
            "  Downloading langchain_text_splitters-0.2.1-py3-none-any.whl (23 kB)\n",
            "Collecting langsmith<0.2.0,>=0.1.17 (from langchain)\n",
            "  Downloading langsmith-0.1.81-py3-none-any.whl (127 kB)\n",
            "\u001b[2K     \u001b[90m━━━━━━━━━━━━━━━━━━━━━━━━━━━━━━━━━━━━━━━━\u001b[0m \u001b[32m127.1/127.1 kB\u001b[0m \u001b[31m2.1 MB/s\u001b[0m eta \u001b[36m0:00:00\u001b[0m\n",
            "\u001b[?25hRequirement already satisfied: numpy<2,>=1 in /usr/local/lib/python3.10/dist-packages (from langchain) (1.25.2)\n",
            "Requirement already satisfied: pydantic<3,>=1 in /usr/local/lib/python3.10/dist-packages (from langchain) (2.7.4)\n",
            "Requirement already satisfied: requests<3,>=2 in /usr/local/lib/python3.10/dist-packages (from langchain) (2.31.0)\n",
            "Requirement already satisfied: tenacity<9.0.0,>=8.1.0 in /usr/local/lib/python3.10/dist-packages (from langchain) (8.4.1)\n",
            "Collecting dataclasses-json<0.7,>=0.5.7 (from langchain-community)\n",
            "  Downloading dataclasses_json-0.6.7-py3-none-any.whl (28 kB)\n",
            "Collecting openai<2.0.0,>=1.26.0 (from langchain-openai)\n",
            "  Downloading openai-1.35.3-py3-none-any.whl (327 kB)\n",
            "\u001b[2K     \u001b[90m━━━━━━━━━━━━━━━━━━━━━━━━━━━━━━━━━━━━━━━━\u001b[0m \u001b[32m327.4/327.4 kB\u001b[0m \u001b[31m19.0 MB/s\u001b[0m eta \u001b[36m0:00:00\u001b[0m\n",
            "\u001b[?25hCollecting tiktoken<1,>=0.7 (from langchain-openai)\n",
            "  Downloading tiktoken-0.7.0-cp310-cp310-manylinux_2_17_x86_64.manylinux2014_x86_64.whl (1.1 MB)\n",
            "\u001b[2K     \u001b[90m━━━━━━━━━━━━━━━━━━━━━━━━━━━━━━━━━━━━━━━━\u001b[0m \u001b[32m1.1/1.1 MB\u001b[0m \u001b[31m30.6 MB/s\u001b[0m eta \u001b[36m0:00:00\u001b[0m\n",
            "\u001b[?25hRequirement already satisfied: aiosignal>=1.1.2 in /usr/local/lib/python3.10/dist-packages (from aiohttp<4.0.0,>=3.8.3->langchain) (1.3.1)\n",
            "Requirement already satisfied: attrs>=17.3.0 in /usr/local/lib/python3.10/dist-packages (from aiohttp<4.0.0,>=3.8.3->langchain) (23.2.0)\n",
            "Requirement already satisfied: frozenlist>=1.1.1 in /usr/local/lib/python3.10/dist-packages (from aiohttp<4.0.0,>=3.8.3->langchain) (1.4.1)\n",
            "Requirement already satisfied: multidict<7.0,>=4.5 in /usr/local/lib/python3.10/dist-packages (from aiohttp<4.0.0,>=3.8.3->langchain) (6.0.5)\n",
            "Requirement already satisfied: yarl<2.0,>=1.0 in /usr/local/lib/python3.10/dist-packages (from aiohttp<4.0.0,>=3.8.3->langchain) (1.9.4)\n",
            "Collecting marshmallow<4.0.0,>=3.18.0 (from dataclasses-json<0.7,>=0.5.7->langchain-community)\n",
            "  Downloading marshmallow-3.21.3-py3-none-any.whl (49 kB)\n",
            "\u001b[2K     \u001b[90m━━━━━━━━━━━━━━━━━━━━━━━━━━━━━━━━━━━━━━━━\u001b[0m \u001b[32m49.2/49.2 kB\u001b[0m \u001b[31m3.9 MB/s\u001b[0m eta \u001b[36m0:00:00\u001b[0m\n",
            "\u001b[?25hCollecting typing-inspect<1,>=0.4.0 (from dataclasses-json<0.7,>=0.5.7->langchain-community)\n",
            "  Downloading typing_inspect-0.9.0-py3-none-any.whl (8.8 kB)\n",
            "Collecting jsonpatch<2.0,>=1.33 (from langchain-core<0.3.0,>=0.2.7->langchain)\n",
            "  Downloading jsonpatch-1.33-py2.py3-none-any.whl (12 kB)\n",
            "Requirement already satisfied: packaging<25,>=23.2 in /usr/local/lib/python3.10/dist-packages (from langchain-core<0.3.0,>=0.2.7->langchain) (24.1)\n",
            "Collecting orjson<4.0.0,>=3.9.14 (from langsmith<0.2.0,>=0.1.17->langchain)\n",
            "  Downloading orjson-3.10.5-cp310-cp310-manylinux_2_17_x86_64.manylinux2014_x86_64.whl (144 kB)\n",
            "\u001b[2K     \u001b[90m━━━━━━━━━━━━━━━━━━━━━━━━━━━━━━━━━━━━━━━━\u001b[0m \u001b[32m145.0/145.0 kB\u001b[0m \u001b[31m4.4 MB/s\u001b[0m eta \u001b[36m0:00:00\u001b[0m\n",
            "\u001b[?25hRequirement already satisfied: anyio<5,>=3.5.0 in /usr/local/lib/python3.10/dist-packages (from openai<2.0.0,>=1.26.0->langchain-openai) (3.7.1)\n",
            "Requirement already satisfied: distro<2,>=1.7.0 in /usr/lib/python3/dist-packages (from openai<2.0.0,>=1.26.0->langchain-openai) (1.7.0)\n",
            "Collecting httpx<1,>=0.23.0 (from openai<2.0.0,>=1.26.0->langchain-openai)\n",
            "  Downloading httpx-0.27.0-py3-none-any.whl (75 kB)\n",
            "\u001b[2K     \u001b[90m━━━━━━━━━━━━━━━━━━━━━━━━━━━━━━━━━━━━━━━━\u001b[0m \u001b[32m75.6/75.6 kB\u001b[0m \u001b[31m5.8 MB/s\u001b[0m eta \u001b[36m0:00:00\u001b[0m\n",
            "\u001b[?25hRequirement already satisfied: sniffio in /usr/local/lib/python3.10/dist-packages (from openai<2.0.0,>=1.26.0->langchain-openai) (1.3.1)\n",
            "Requirement already satisfied: tqdm>4 in /usr/local/lib/python3.10/dist-packages (from openai<2.0.0,>=1.26.0->langchain-openai) (4.66.4)\n",
            "Requirement already satisfied: typing-extensions<5,>=4.7 in /usr/local/lib/python3.10/dist-packages (from openai<2.0.0,>=1.26.0->langchain-openai) (4.12.2)\n",
            "Requirement already satisfied: annotated-types>=0.4.0 in /usr/local/lib/python3.10/dist-packages (from pydantic<3,>=1->langchain) (0.7.0)\n",
            "Requirement already satisfied: pydantic-core==2.18.4 in /usr/local/lib/python3.10/dist-packages (from pydantic<3,>=1->langchain) (2.18.4)\n",
            "Requirement already satisfied: charset-normalizer<4,>=2 in /usr/local/lib/python3.10/dist-packages (from requests<3,>=2->langchain) (3.3.2)\n",
            "Requirement already satisfied: idna<4,>=2.5 in /usr/local/lib/python3.10/dist-packages (from requests<3,>=2->langchain) (3.7)\n",
            "Requirement already satisfied: urllib3<3,>=1.21.1 in /usr/local/lib/python3.10/dist-packages (from requests<3,>=2->langchain) (2.0.7)\n",
            "Requirement already satisfied: certifi>=2017.4.17 in /usr/local/lib/python3.10/dist-packages (from requests<3,>=2->langchain) (2024.6.2)\n",
            "Requirement already satisfied: greenlet!=0.4.17 in /usr/local/lib/python3.10/dist-packages (from SQLAlchemy<3,>=1.4->langchain) (3.0.3)\n",
            "Requirement already satisfied: regex>=2022.1.18 in /usr/local/lib/python3.10/dist-packages (from tiktoken<1,>=0.7->langchain-openai) (2024.5.15)\n",
            "Requirement already satisfied: exceptiongroup in /usr/local/lib/python3.10/dist-packages (from anyio<5,>=3.5.0->openai<2.0.0,>=1.26.0->langchain-openai) (1.2.1)\n",
            "Collecting httpcore==1.* (from httpx<1,>=0.23.0->openai<2.0.0,>=1.26.0->langchain-openai)\n",
            "  Downloading httpcore-1.0.5-py3-none-any.whl (77 kB)\n",
            "\u001b[2K     \u001b[90m━━━━━━━━━━━━━━━━━━━━━━━━━━━━━━━━━━━━━━━━\u001b[0m \u001b[32m77.9/77.9 kB\u001b[0m \u001b[31m7.8 MB/s\u001b[0m eta \u001b[36m0:00:00\u001b[0m\n",
            "\u001b[?25hCollecting h11<0.15,>=0.13 (from httpcore==1.*->httpx<1,>=0.23.0->openai<2.0.0,>=1.26.0->langchain-openai)\n",
            "  Downloading h11-0.14.0-py3-none-any.whl (58 kB)\n",
            "\u001b[2K     \u001b[90m━━━━━━━━━━━━━━━━━━━━━━━━━━━━━━━━━━━━━━━━\u001b[0m \u001b[32m58.3/58.3 kB\u001b[0m \u001b[31m6.0 MB/s\u001b[0m eta \u001b[36m0:00:00\u001b[0m\n",
            "\u001b[?25hCollecting jsonpointer>=1.9 (from jsonpatch<2.0,>=1.33->langchain-core<0.3.0,>=0.2.7->langchain)\n",
            "  Downloading jsonpointer-3.0.0-py2.py3-none-any.whl (7.6 kB)\n",
            "Collecting mypy-extensions>=0.3.0 (from typing-inspect<1,>=0.4.0->dataclasses-json<0.7,>=0.5.7->langchain-community)\n",
            "  Downloading mypy_extensions-1.0.0-py3-none-any.whl (4.7 kB)\n",
            "Installing collected packages: orjson, mypy-extensions, marshmallow, jsonpointer, h11, typing-inspect, tiktoken, jsonpatch, httpcore, langsmith, httpx, dataclasses-json, openai, langchain-core, langchain-text-splitters, langchain-openai, langchain, langchain-community\n",
            "Successfully installed dataclasses-json-0.6.7 h11-0.14.0 httpcore-1.0.5 httpx-0.27.0 jsonpatch-1.33 jsonpointer-3.0.0 langchain-0.2.5 langchain-community-0.2.5 langchain-core-0.2.9 langchain-openai-0.1.8 langchain-text-splitters-0.2.1 langsmith-0.1.81 marshmallow-3.21.3 mypy-extensions-1.0.0 openai-1.35.3 orjson-3.10.5 tiktoken-0.7.0 typing-inspect-0.9.0\n"
          ]
        }
      ],
      "source": [
        "!pip install langchain langchain-community langchain-openai"
      ]
    },
    {
      "cell_type": "code",
      "source": [
        "import os\n",
        "import getpass\n",
        "\n",
        "os.environ[\"OPENAI_API_KEY\"] = getpass.getpass()"
      ],
      "metadata": {
        "colab": {
          "base_uri": "https://localhost:8080/"
        },
        "id": "LAmNK9PPAOo8",
        "outputId": "4e00c7d0-7bed-46e9-e2ae-0f8776133475"
      },
      "execution_count": 2,
      "outputs": [
        {
          "name": "stdout",
          "output_type": "stream",
          "text": [
            "··········\n"
          ]
        }
      ]
    },
    {
      "cell_type": "code",
      "source": [
        "from langchain_openai import ChatOpenAI\n",
        "\n",
        "generate_model = ChatOpenAI(model=\"gpt-4o\", base_url=\"https://api.chatanywhere.tech/v1\")\n",
        "grade_model = ChatOpenAI(model=\"gpt-4\", base_url=\"https://api.chatanywhere.tech/v1\")"
      ],
      "metadata": {
        "id": "grpEDS4JAfLJ"
      },
      "execution_count": 3,
      "outputs": []
    },
    {
      "cell_type": "code",
      "source": [
        "from langchain_core.prompts import ChatPromptTemplate\n",
        "from langchain_core.output_parsers import StrOutputParser\n",
        "\n",
        "parser = StrOutputParser()\n",
        "generate_system_template = \"你是一个善于写中国古代诗歌的诗人，接下来我会给你提供一个题目，请你围绕这个题目写一首古诗。在生成的过程中请你注意中国古代诗歌的格式要求，并且请你表达尽可能多的情感与含义。在最后输出结果时只需要生成诗歌的主体部分\"\n",
        "generate_prompt_template = ChatPromptTemplate.from_messages(\n",
        "    [(\"system\", generate_system_template), (\"user\", \"{text}\")]\n",
        ")\n",
        "\n",
        "grade_system_template = \"你是一个中国古代诗歌评论家，接下来我会给你一首诗歌，请你依据以下标准来评价这首诗歌的得分。评分标准为：①格式。生成的唐诗是否遵循写作规则,尤其注意对仗、句数、字数、平仄（0至5分）；②创新性。生成的唐诗是否抄袭现成的诗句，是否具有创新性（0至5分）；③相关性。生成的唐诗与给定主题是否相关（0至5分）；④美学。生成的唐诗是否符合中国诗词的审美，包括寓情于物等（0至5分）；⑤整体。从整体情况评价生成的唐诗（0至10分）.请你在最后给出这几项的得分，并且你不需要给出评判的过程和任何文字只需要输出最后的5个数字。\"\n",
        "grade_prompt_template = ChatPromptTemplate.from_messages(\n",
        "    [(\"system\", grade_system_template), (\"user\", \"{text}\")]\n",
        ")"
      ],
      "metadata": {
        "id": "iP-OGioJD8oV"
      },
      "execution_count": 10,
      "outputs": []
    },
    {
      "cell_type": "code",
      "source": [
        "generate_chain = generate_prompt_template | generate_model | parser\n",
        "grade_chain = grade_prompt_template | grade_model | parser"
      ],
      "metadata": {
        "id": "yiNgDFB66pUp"
      },
      "execution_count": 11,
      "outputs": []
    },
    {
      "cell_type": "code",
      "source": [
        "theme = [\"青春\", \"梦想\", \"高山\", \"深海\", \"星空\", \"失落\", \"爱情\", \"孤独\", \"希望\", \"迷茫\",\n",
        "    \"成长\", \"离别\", \"重逢\", \"夕阳\", \"清晨\", \"冬雪\", \"春花\", \"夏雨\", \"秋叶\", \"往事\",\n",
        "    \"忧伤\", \"欢乐\", \"旅行\", \"归宿\", \"朋友\", \"家庭\", \"传统\", \"创新\", \"自由\", \"约束\",\n",
        "    \"城市\", \"乡村\", \"河流\", \"山谷\", \"荒漠\", \"林间\", \"夜晚\", \"黎明\", \"阴雨\", \"晴天\",\n",
        "    \"风景\", \"人群\", \"孤单\", \"热闹\", \"平静\", \"激情\", \"压力\", \"解脱\", \"寻找\", \"发现\",\n",
        "    \"失去\", \"获得\", \"旧时光\", \"新生\", \"悲伤\", \"喜悦\", \"分手\", \"团聚\", \"哲理\", \"纷争\",\n",
        "    \"和平\", \"冒险\", \"安全\", \"学习\", \"教育\", \"成就\", \"失败\", \"胜利\", \"竞争\", \"合作\",\n",
        "    \"梦魇\", \"幻想\", \"现实\", \"逃避\", \"面对\", \"变化\", \"恒常\", \"追忆\", \"遗忘\", \"诗歌\",\n",
        "    \"绘画\", \"音乐\", \"舞蹈\", \"雕塑\", \"建筑\", \"文学\", \"历史\", \"未来\", \"科技\", \"自然\",\n",
        "    \"灾害\", \"恢复\", \"衰退\", \"繁荣\", \"衰弱\", \"强健\", \"疾病\", \"治愈\", \"传说\", \"神话\"]\n",
        "\n",
        "score = []\n",
        "result = []\n",
        "for each in theme:\n",
        "  poetry = generate_chain.invoke(each)\n",
        "  result.append(poetry)\n",
        "  score.append(grade_chain.invoke(poetry))\n",
        "print(score)\n",
        "print(result)"
      ],
      "metadata": {
        "id": "xO9svfuB6cUx",
        "outputId": "fc7e2cdc-3eff-4978-be67-0ab23ae39ee8",
        "colab": {
          "base_uri": "https://localhost:8080/"
        }
      },
      "execution_count": 13,
      "outputs": [
        {
          "output_type": "stream",
          "name": "stdout",
          "text": [
            "['4.5 4.5 4 4 8.5', '5 5 4 5 9', '5 5 5 5 10', '4.5, 4, 4.5, 4.5, 9', '5 4 4 5 9', '5 4 5 4 8', '5 4 4 5 8', '4 4 4 5 8', '5 5 5 5 10', '4.5 4 4.5 4.5 8.5', '5 5 5 5 10', '5 5 5 4 9', '5 5 5 5 10', '4, 4, 4, 5, 8', '5 5 4 4 8', '4.5 4 5 4.5 9', '5 5 5 5 10', '5 5 5 5 10', '5 5 5 5 10', '4, 4, 5, 5, 8', '4 4 4 4 8', '5 4 4 4 8', '5 5 5 5 10', '4.5 4.5 4 4.5 8.5', '5 4 4 4 8', '5 5 5 5 10', '5 5 5 5 10', '4,4,4,4,8', '5 5 4 4 8', '4 4 4 4 8', '4 4 4 4 8', '5 4 5 4 9', '5 4 5 5 9', '5 5 5 5 10', '5 5 5 5 10', '4.5 4 5 4.5 8.5', '4,5,4,5,9', '5 5 5 4 9', '5 5 5 5 10', '4, 4, 3, 4, 7', '5 5 5 5 10', '5 5 4 5 9', '5 5 5 5 10', '5 5 4 4 8', '5 5 5 5 10', '5 5 5 5 10', '5 5 5 5 10', '4 5 4 4 8', '5 5 5 5 10', '4.5 5 5 4.5 9', '5 5 5 5 10', '4 5 5 4 8', '5 5 5 5 10', '5 5 5 4 9', '5 5 5 5 10', '5 4 5 5 9', '4 4 4 4 8', '5 4 5 5 9', '5 5 4 4 8', '5 4 5 4 8', '5 5 5 5 10', '5 5 5 5 9', '5 5 5 5 10', '5 5 5 5 10', '4 4 4 5 8', '5 5 5 5 10', '5 5 4 5 9', '5 4 5 4 9', '5 5 5 5 10', '4 4.5 4 4.5 8.5', '4, 3, 5, 4, 8', '5 5 4 5 8', '5 5 4 4 9', '5 4 5 5 9', '4, 4, 4, 4, 8', '4.5 4.5 4.5 4.5 8.5', '5 5 5 5 10', '5 5 5 5 10', '5 5 5 5 10', '5 5 4 5 9', '4.5 4.5 4 4.5 9', '4 4 4 4 8', '5 5 4 5 9', '5 5 5 5 10', '4.5 5 4 4 8.5', '5 4.5 5 5 9', '4 4 5 4 8', '5 5 5 5 10', '5 5 5 5 10', '5 4 4 5 9', '5 5 5 5 10', '5 5 5 5 10', '4.5, 4, 5, 4.5, 9', '5 5 5 5 10', '5 5 5 5 10', '5 5 4 5 9', '5 5 5 5 9', '4 5 4 4 8', '5 5 5 5 9', '5 4 5 5 9']\n",
            "['春风拂面柳初青，  \\n少年意气正纵横。  \\n朝霞映水流光彩，  \\n斜阳照径影长行。  \\n闲看飞花逐梦去，  \\n笑语欢歌响不停。  \\n莫叹光阴如水逝，  \\n青春一刻最难忘。', '星河灿烂梦归处，\\n云霄浩渺意难书。\\n长风万里追鹏翼，\\n四海九州踏浪途。\\n\\n青松不改凌霄志，\\n白雪何妨染鬓须。\\n纵使风尘千百劫，\\n心怀赤子向天舒。', '巍巍峻岭入云霄，  \\n松风晨露洗尘嚣。  \\n苍茫万里凝冰雪，  \\n峭壁危峰叠翠翘。  \\n鹤影孤飞随白鹭，  \\n猿声远荡过溪桥。  \\n登临极目天地阔，  \\n胸怀如海尽逍遥。', '碧波深处寻幽梦，  \\n渺渺孤舟逐浪行。  \\n鲛人泣泪成珠影，  \\n珊瑚艳舞伴月明。  \\n\\n潮声叠叠心头起，  \\n海底迷宫隐奇珍。  \\n愿化鱼龙随波去，  \\n不羡尘世几浮沉。', '夜阑星河灿，寂寥映心怀。\\n银汉千秋影，皎洁万古哀。\\n流光如梦远，尘世几度哀。\\n天问何处寄，浩渺共徘徊。', '秋风萧瑟夜深长，  \\n孤灯独照影茫茫。  \\n心事难诉离愁重，  \\n梦断天涯泪两行。', '云水悠悠意难平，\\n离愁别绪绕心生。\\n月照孤窗人影寂，\\n梦中花落几回情。', '月下孤影对冷风，\\n思君夜深梦难同。\\n星稀鹤远心犹怅，\\n独坐窗前泪满瞳。', '云开日出照青山，\\n春风拂柳绿如烟。\\n长河奔涌终入海，\\n万象更新盼梦圆。', '雾锁青山路难寻，  \\n愁云深处暗无明。  \\n孤舟欲渡江心远，  \\n梦里花开何处春？', '春风拂面绿柳新，\\n少年心志向天行。\\n苦读寒窗夜灯下，\\n终有一日梦成真。', '长亭柳下别，泪湿青衫袖。\\n秋风吹雁远，心逐云间游。\\n江水悠悠去，山川几重幽。\\n来日再相聚，愿君早归舟。', '离别经年陌路长，\\n再见故人泪两行。\\n春风又绿江南岸，\\n旧梦依稀在心房。', '落霞映水天边尽，  \\n孤鹜斜飞意未平。  \\n江畔渔舟吟晚景，  \\n云归山影暮色盈。', '晓露点翠草，晨光映红霞。\\n鸟鸣催梦醒，山河共朝华。\\n风轻柳色新，溪流映天家。\\n静观云舒卷，心随四时花。', '寒风萧瑟夜未央，\\n银装素裹满山岗。\\n玉蝶翩然舞苍穹，\\n琼枝晶莹映寒光。\\n\\n冰封千里君莫叹，\\n春来草木自芬芳。\\n且看梅花凌霜立，\\n幽香淡雅迎雪扬。', '春风拂面百花开，  \\n桃李争妍映楼台。  \\n燕子归来新巢筑，  \\n蝶舞翩翩醉春怀。', '云卷风来雷声起，  \\n骤雨倾盆万象洗。  \\n翠竹摇曳青山翠，  \\n荷塘水满映天碧。  \\n行人匆匆避檐下，  \\n稻田润泽农家喜。  \\n清凉洗尽尘世忧，  \\n心随雨落净无比。', '霜降寒露落，秋风卷叶黄。\\n碧天孤影寂，红枫染山梁。\\n鸿雁随云远，流水共愁长。\\n岁岁秋来去，年年意未央。', '风拂杨柳旧亭台，  \\n雁声惊梦忆前怀。  \\n春花秋月几时见，  \\n往事如烟难再来。  \\n流水潺潺心事远，  \\n青灯孤影夜徘徊。  \\n愁绪满怀何处诉，  \\n空叹此生多怅惘。', '秋风萧瑟夜难寐，\\n孤灯影下泪纷飞。\\n心事悠悠无处寄，\\n愁云深锁梦难回。', '春风拂柳笑声扬，  \\n花间蝶舞醉心房。  \\n对酒当歌欢颜在，  \\n今朝尽兴莫彷徨。', '云山叠嶂路漫长，\\n溪水潺潺伴我行。\\n草木幽幽香满径，\\n远村炊烟袅晴空。\\n\\n驿站寂寂风声紧，\\n孤舟夜泊月光明。\\n心怀万里思故土，\\n梦里依稀听乡鸣。', '北风吹雁月初沉，  \\n长路迢迢故乡寻。  \\n云山万里心犹系，  \\n岁月沧桑梦未深。  \\n\\n江水悠悠怀旧影，  \\n村烟袅袅绕柴门。  \\n归来但见桃花笑，  \\n此处安宁是我魂。', '故人远行别情长，\\n青山依旧水潺潺。\\n酒酣未解离愁意，\\n月下相对泪满襟。', '庭院深深夜未央，  \\n灯火阑珊映旧墙。  \\n父母恩情如春露，  \\n子孙绕膝话短长。  \\n共饮一杯团圆酒，  \\n几多欢笑在心房。  \\n岁岁年年皆如此，  \\n家和万事自无殃。', '先贤传道久，岁月织锦绣。\\n礼乐承风骨，诗书润心头。\\n乡土依旧在，桑梓情难休。\\n千载文化脉，永续中华秋。', '锦绣文章展妙才，  \\n丹心妙手绘新怀。  \\n千年旧律随风去，  \\n万象更新破晓开。  \\n\\n智巧堪追天外月，  \\n勤勉可造海中台。  \\n勇立潮头争日月，  \\n新篇共谱未来来。', '云游四海任天涯，\\n江湖烟雨笑繁华。\\n心随流水飘无定，\\n自在青山度晚霞。', '清风拂柳影，月下听箫声。\\n心似寒潭水，难诉此中情。\\n情深缘浅处，苦断万般梦。\\n君子守约束，宁静致远行。', '高楼林立霓虹闪，车马喧嚣夜不眠。\\n繁华尽处谁知苦，灯火阑珊梦未圆。\\n巷陌深深人影寂，旧时庭院忆少年。\\n心随流水向何方，乡思点点入云端。', '青山隐隐水迢迢，  \\n村落烟霞牧笛飘。  \\n田园绿野鸡犬乐，  \\n桑麻竹篱花影娇。  \\n\\n牧童归来斜阳下，  \\n渔舟唱晚晚风遥。  \\n夜深星稀月如钩，  \\n梦中故土心难抛。', '滔滔江水东流去，  \\n千古兴亡转瞬间。  \\n两岸青山依旧在，  \\n渔舟唱晚思故园。  \\n\\n春风拂柳绿满堤，  \\n秋月映波银光寒。  \\n多少离愁随水逝，  \\n唯余梦里故人还。', '幽谷静谧鸟声稀，\\n翠竹青松掩翠微。\\n曲径通幽清泉泻，\\n云卷云舒任意飞。', '大漠孤烟直，长河落日圆。\\n风沙卷天幕，驼铃响远边。\\n孤客心难定，思乡泪已干。\\n但愿春风至，绿洲再现前。', '松风拂影翠，泉韵绕林间。\\n春晓鸟声脆，夕阳花影斑。\\n幽径行无尽，心随云水闲。\\n独坐听松籁，尘世几多烦。', '月华洒落银光轻，  \\n秋风拂面夜微清。  \\n星辰点点天如墨，  \\n寂寞庭前思旧情。', '曙光初现染天涯，\\n晨露微凉润翠华。\\n鸟啼唤醒千山静，\\n新日东升万物嘉。\\n云霞漫卷风轻拂，\\n心随光影梦无瑕。\\n岁月如歌迎朝曦，\\n愿寄美景共年华。', '细雨霏霏锁青山，\\n云低雾重黯江南。\\n柳垂翠袖沾寒露，\\n燕剪斜风舞暮帆。\\n愁绪几多随水远，\\n心期无尽向天阑。\\n但愿春来花满径，\\n同君携手共凭栏。', '碧空万里无纤尘，  \\n日暖风柔花木新。  \\n湖水澄清映青山，  \\n闲云悠悠逐鹤频。', '山川如画卷，云影伴清风。\\n花开四季艳，泉鸣百鸟同。\\n翠竹摇曳舞，松涛诉古情。\\n人在景中醉，心随天地融。', '纷纷扰扰市井中，\\n人海茫茫各不同。\\n笑语欢声如潮涌，\\n冷暖自知心自容。', '月冷风清夜未央，\\n孤灯独照影成双。\\n遥望星河心寂寥，\\n天涯何处是吾乡？', '灯火阑珊夜未央，  \\n人声鼎沸市井忙。  \\n红尘滚滚歌舞起，  \\n笑语盈盈醉酒香。  \\n\\n万家灯火映星河，  \\n千载风流共此场。  \\n欢聚一堂莫相忘，  \\n繁华尽处情更长。  ', '江岸柳垂静，\\n月明水不惊。\\n渔舟轻荡漾，\\n夜深风亦停。', '云霞映山峰，烈日照江东。\\n豪情随风起，壮志逐浪涌。\\n剑舞龙蛇影，弦歌天地同。\\n男儿当自强，热血洒长空。', '风急云重夜未央，  \\n心如潮涌梦难藏。  \\n山高路远前程险，  \\n志若金刚何惧霜。  \\n\\n屡经挫折身犹健，  \\n几番困顿意更强。  \\n待到柳暗花明日，  \\n笑看风云任徜徉。', '红尘滚滚心常累，\\n梦里依稀旧时悲。\\n欲脱凡尘千般苦，\\n青山无语白云飞。', '山川万里寻踪影，\\n风卷云舒路几重。\\n孤雁远飞心未定，\\n天涯海角梦中逢。', '幽径深深草木闲，  \\n溪流潺潺绕石间。  \\n山中偶遇奇花放，  \\n一片清香满袖还。  \\n\\n世事纷繁多未了，  \\n此地独坐心自安。  \\n惊觉尘俗皆幻影，  \\n方知天地亦无边。', '落花逐水远，心随梦已残。\\n望断天涯路，离愁满鬓斑。\\n孤灯寒夜泣，旧曲无人弹。\\n空留相思泪，何时见君还？', '硕果累累压枝头，\\n勤耕苦读岁月稠。\\n金榜题名心愿了，\\n笑看风雨岁月悠。', '故园春色旧时光，  \\n梦里依稀笑语长。  \\n柳絮飘飞人已远，  \\n青山不改水流伤。  \\n庭前花落无人见，  \\n月下独酌忆故乡。  \\n心随岁月空回首，  \\n何处寻得少年郎？', '春风拂面百花开，   \\n嫩芽初吐翠色来。   \\n燕舞莺歌欣岁月，   \\n人间万象焕新胎。   \\n\\n幼苗破土迎朝露，   \\n红日升空映碧霄。   \\n山川草木皆欣喜，   \\n心随天地共欢谣。', '秋风瑟瑟夜未央，\\n孤灯残影对愁肠。\\n月冷星稀心似水，\\n梦回故里泪千行。', '春风拂柳绿，燕子穿云飞。\\n桃花笑迎客，溪水潺潺归。\\n农家丰收日，孩童嬉戏时。\\n欢声绕村落，喜气满天涯。', '长亭送别泪满襟，\\n青山依旧人不寻。\\n风卷残云心似纸，\\n月照孤舟梦如针。', '遥夜星稀盼归人，\\n故园灯火照笑颜。\\n千里相思成一梦，\\n今宵团聚尽欢颜。', '山高水长意未央，  \\n风起云涌自悠扬。  \\n月圆月缺皆有道，  \\n花开花落亦无常。  \\n人间百态皆一瞬，  \\n心静如水道自彰。  \\n莫叹浮生多变幻，  \\n但求真意在心房。  ', '烽烟四起乱世中，  \\n刀光剑影血染红。  \\n君臣各执兵戈急，  \\n百姓流离泪满衷。  \\n\\n江山易主魂难定，  \\n忠义两全梦几重。  \\n但愿春风化干戈，  \\n天下共乐太平同。', '云淡风轻日渐长，\\n四海同欢万里香。\\n战火消弭民心定，\\n桃源梦里共安康。', '风急云涌山海间，  \\n剑影刀光胆气连。  \\n千里征途惊魂渡，  \\n一朝豪迈入险关。  \\n蛟龙潜渊寻宝地，  \\n天涯共赴梦未还。  \\n生死无惧心似铁，  \\n豪情壮志笑风寒。', '风雷卷地险，四海皆心悬。\\n家国重如山，护佑需勇贤。\\n夜行灯火静，万户梦中安。\\n赤心托明月，愿世永平安。', '书卷多情作伴长，  \\n寒灯夜读不觉凉。  \\n几度春秋随日月，  \\n学海无涯志更强。  \\n静坐窗前心自远，  \\n诗书万卷梦飞扬。  \\n勤奋耕耘终有获，  \\n青云直上写辉煌。', '书声伴月夜，灯火映窗明。\\n传道千载远，授业百年情。\\n寒窗苦读日，寒梅吐蕊迎。\\n桃李成林后，春风遍地行。', '功名何须待云天，\\n奋笔书帛志愈坚。\\n风雨磨砺终不悔，\\n千秋伟业自心田。', '劲草难折志未衰，乌云压顶不改怀。\\n千回百折终不悔，化作春泥更护梅。', '旌旗漫卷风云动，  \\n铁骑铮铮破敌锋。  \\n血染沙场成壮志，  \\n凯歌高奏万民同。  \\n\\n功成归来宴无尽，  \\n笑看春风拂旧容。  \\n英雄白发今犹在，  \\n岁岁年年话古风。  ', '风起云涌竞若龙，  \\n才华争艳各峥嵘。  \\n千军万马逐梦路，  \\n不负青春志满胸。  \\n月下孤影思往事，  \\n几度拼搏几度融。  \\n汗水浇灌花开处，  \\n笑看他日登高峰。', '共谋风雅事，携手共云天。\\n心契千里外，志同万里缘。\\n并肩山水路，同心日月前。\\n携手创佳绩，携梦共流年。', '夜深风冷梦回时，  \\n惊魂未定心难释。  \\n迷离幻境幽幽现，  \\n似真似假绕心驰。  \\n\\n鬼影重重阴森路，  \\n泪眼迷蒙愁绪织。  \\n欲逃无路身似缚，  \\n醒来方觉梦成痴。  \\n\\n月隐星稀夜更沉，  \\n长叹一声天不知。  \\n何时梦魇终成空？  \\n但愿安眠心无疑。', '星河漫漫梦中寻，  \\n仙鹤云端舞影新。  \\n瑶池玉液邀明月，  \\n天阙琼楼醉三春。  \\n\\n碧海青天同一色，  \\n千年一瞬若回真。  \\n长风载我乘云去，  \\n笑问苍穹何处人。', '红尘万丈人间路，  \\n浮生若梦几回顾。  \\n世事如棋局局新，  \\n风霜满面心如故。  \\n\\n高楼远眺云烟绕，  \\n市井喧嚣难相诉。  \\n莫问前程与归宿，  \\n唯愿今朝共君度。', '风急山高云隐踪，  \\n尘世喧嚣心自空。  \\n桃源梦里寻幽境，  \\n逃离红尘避世中。', '山川寂寂风吹叶，\\n独立高台对夕霜。\\n心事千重难寄远，\\n长空万里雁声长。', '春风化雨润无声，\\n夏日炎炎映长空。\\n秋月寒霜染黄叶，\\n冬雪皑皑覆山峰。\\n\\n岁月匆匆如流水，\\n繁华落尽成梦中。\\n人生百态皆变化，\\n一念之间天地同。', '秋风吹尽满园霜，\\n岁月如流水自长。\\n寒暑几度换春秋，\\n心中常怀旧时光。', '长空云淡旧时情，  \\n柳岸花飞梦已轻。  \\n多少流年成逝水，  \\n一壶浊酒慰孤萍。', '秋风萧瑟叶飘零，  \\n旧梦难寻泪满襟。  \\n昔日繁华成一梦，  \\n今朝寂寞染霜鬓。  \\n\\n曾经欢笑随风逝，  \\n往事如烟渐无痕。  \\n斜阳西下人独立，  \\n寂寞长天忆旧人。', '柳絮飞扬春意浓，  \\n花开半夏几多情。  \\n江南水乡烟波绕，  \\n青山绿水映心中。  \\n\\n吟风弄月影成双，  \\n柳下琴声诉衷肠。  \\n年年此景常相似，  \\n唯愿长伴共此芳。', '丹青妙笔点春风，\\n墨染烟霞入画中。\\n山水静谧藏心意，\\n笔下风华意无穷。', '笛声绕梁月影斜，  \\n琴瑟和鸣天籁赊。  \\n夜深风动松涛起，  \\n心随曲调梦还家。', '长袖翩翩逐风舞，  \\n玉姿曼妙绽春苏。  \\n霓裳挥洒天涯梦，  \\n云影随心绕玉壶。  \\n\\n笑靥如花迎月醉，  \\n眉黛含情水中浮。  \\n轻盈若燕凌波去，  \\n一曲流连醉人图。', '玉石雕成妙手工，\\n千年风雨韵犹存。\\n细观眉目神采现，\\n如见古人立堂中。', '高楼接天云，  \\n飞檐映夕曛。  \\n雕梁画栋辉，  \\n长街古今闻。  \\n石阶通幽径，  \\n琼台隐深坟。  \\n匠心铸宏业，  \\n千载共纷纭。', '满庭花影舞风轻，  \\n笔墨书香绕夜明。  \\n心随诗韵穿千古，  \\n意伴文思越万程。  \\n山川草木皆成句，  \\n星辰烟霞共为情。  \\n骚人墨客吟不尽，  \\n万卷书中有真声。', '大江东去浪淘沙，  \\n千古兴亡几度嗟。  \\n烽火连天尘满地，  \\n英雄寂寞泪如麻。\\n\\n长城内外风萧瑟，  \\n故国山河几人家。  \\n岁月如歌难再现，  \\n沧桑世事徒叹嗟。', '云卷风起渡残苍，  \\n星河倒映夜未央。  \\n千年梦远心犹寄，  \\n万里江山待吾扬。  \\n不惧前路迷茫险，  \\n赤诚所向破浪狂。  \\n纵然岁月如流逝，  \\n笑看明朝艳阳光。', '千年智慧今朝现，万里乾坤指掌间。\\n铁马金戈成往事，光电飞舟梦里连。\\n四海同声传远近，八荒共识晓人寰。\\n但愿科技兴华夏，繁荣昌盛永无边。', '松风竹影翠，山泉石上流。\\n鸟啼山谷静，花落水中游。\\n云卷天边白，霞飞日暮秋。\\n心随天地远，情寄自然悠。', '天灾频频泣苍生，  \\n风雨雷霆乱世情。  \\n禾苗尽毁村庄绝，  \\n民心惶恐泪纵横。  \\n\\n水漫田园无归路，  \\n家园破碎梦难成。  \\n但愿苍穹开恩典，  \\n重建家园共太平。', '乱世荒烟散，故土几时还。\\n山河依旧在，人心未复安。\\n风雨催花落，泪洒衣襟寒。\\n四海皆兄弟，何时共乐欢。', '秋风起兮叶飘零，  \\n故园寥落人迹稀。  \\n曾记春华满庭院，  \\n今朝唯余冷霜侵。  \\n\\n年华逝去难复返，  \\n老树孤立影渐深。  \\n叹息光阴催人老，  \\n愁绪万千何处寻。  ', '春风暖暖花竞开，\\n千家万户笑颜裁。\\n车水马龙街巷拥，\\n丰年岁月共徘徊。', '秋风萧萧落叶黄，\\n霜寒侵骨夜未央。\\n身衰心壮难抵岁，\\n鬓白人老梦犹长。', '松柏挺立风霜中，  \\n筋骨铮铮万古雄。  \\n壮志凌云何惧险，  \\n一身豪气震寰穹。', '病榻长夜梦难安，\\n一身虚弱几愁缠。\\n春风未解心头苦，\\n秋雨更添鬓发斑。\\n药石无灵求好日，\\n亲情暖意寄遥山。\\n但愿身健重相聚，\\n明月同饮共欢颜。', '春风拂面柳丝垂，  \\n新芽吐绿燕归时。  \\n流水潺潺心渐净，  \\n山花烂漫愁何辞。  \\n病木逢春重展叶，  \\n断魂得慰重生枝。  \\n岁月无声疗旧恨，  \\n心田一片平如池。', '云烟缥缈仙境遥，\\n神话传承古今朝。\\n江山无尽英魂泣，\\n天地浩荡风雨飘。\\n\\n龙腾凤舞惊寰宇，\\n瑶池玉液醉心潮。\\n千年岁月皆如梦，\\n一曲琴音诉未了。', '瑶池仙境映云霞，  \\n龙腾凤舞九天家。  \\n玉兔捣药桂枝旁，  \\n嫦娥独倚月中纱。  \\n\\n昆仑之巅风云起，  \\n大地之下鬼神哗。  \\n三界无尽奇妙事，  \\n千古传说共咏夸。']\n"
          ]
        }
      ]
    },
    {
      "cell_type": "code",
      "source": [],
      "metadata": {
        "id": "HcLj7Uxw7TCd"
      },
      "execution_count": null,
      "outputs": []
    }
  ]
}